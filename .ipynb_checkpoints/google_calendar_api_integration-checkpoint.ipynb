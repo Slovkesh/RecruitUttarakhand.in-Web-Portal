{
 "cells": [
  {
   "cell_type": "markdown",
   "metadata": {},
   "source": [
    "# Integrating Google Calendar API in Python Projects\n",
    "\n",
    "![](http://chittagongit.com/download/229209)\n",
    "\n",
    "- [Google Calendar](https://calendar.google.com)\n",
    "\n",
    "- [Google Calendar API](https://developers.google.com/calendar/)\n",
    "\n",
    "- [Google Developers Console](https://console.developers.google.com/)\n",
    "\n",
    "- [Google Calendar API Scopes](https://developers.google.com/calendar/auth)\n",
    "\n",
    "- [Google Calendar API Reference](https://developers.google.com/calendar/v3/reference/)"
   ]
  },
  {
   "cell_type": "markdown",
   "metadata": {},
   "source": [
    "## Installation\n",
    "\n",
    "```\n",
    "pip install google-api-python-client\n",
    "```"
   ]
  },
  {
   "cell_type": "markdown",
   "metadata": {},
   "source": [
    "## OAuth 2.0 Setup"
   ]
  },
  {
   "cell_type": "code",
   "execution_count": 1,
   "metadata": {},
   "outputs": [],
   "source": [
    "from apiclient.discovery import build\n",
    "from google_auth_oauthlib.flow import InstalledAppFlow"
   ]
  },
  {
   "cell_type": "code",
   "execution_count": 2,
   "metadata": {},
   "outputs": [],
   "source": [
    "scopes = ['https://www.googleapis.com/auth/calendar']"
   ]
  },
  {
   "cell_type": "markdown",
   "metadata": {},
   "source": [
    "flow = InstalledAppFlow.from_client_secrets_file(\"client.json\", scopes=scopes)"
   ]
  },
  {
   "cell_type": "markdown",
   "metadata": {},
   "source": [
    "credentials = flow.run_console()"
   ]
  },
  {
   "cell_type": "markdown",
   "metadata": {},
   "source": [
    "pickle.dump(credentials, open(\"token.pkl\", \"wb\"))"
   ]
  },
  {
   "cell_type": "code",
   "execution_count": 6,
   "metadata": {},
   "outputs": [],
   "source": [
    "import pickle"
   ]
  },
  {
   "cell_type": "code",
   "execution_count": 7,
   "metadata": {},
   "outputs": [],
   "source": [
    "credentials = pickle.load(open(\"token.pkl\", \"rb\"))"
   ]
  },
  {
   "cell_type": "code",
   "execution_count": 8,
   "metadata": {},
   "outputs": [],
   "source": [
    "service = build(\"calendar\", \"v3\", credentials=credentials)"
   ]
  },
  {
   "cell_type": "markdown",
   "metadata": {},
   "source": [
    "## Get My Calendars"
   ]
  },
  {
   "cell_type": "code",
   "execution_count": 26,
   "metadata": {},
   "outputs": [],
   "source": [
    "result = service.calendarList().list().execute()"
   ]
  },
  {
   "cell_type": "code",
   "execution_count": 27,
   "metadata": {},
   "outputs": [
    {
     "data": {
      "text/plain": [
       "{'kind': 'calendar#calendarListEntry',\n",
       " 'etag': '\"1595709500046000\"',\n",
       " 'id': 'code.crunch.sih@gmail.com',\n",
       " 'summary': 'code.crunch.sih@gmail.com',\n",
       " 'timeZone': 'Asia/Kolkata',\n",
       " 'colorId': '14',\n",
       " 'backgroundColor': '#9fe1e7',\n",
       " 'foregroundColor': '#000000',\n",
       " 'selected': True,\n",
       " 'accessRole': 'owner',\n",
       " 'defaultReminders': [{'method': 'popup', 'minutes': 30}],\n",
       " 'notificationSettings': {'notifications': [{'type': 'eventCreation',\n",
       "    'method': 'email'},\n",
       "   {'type': 'eventChange', 'method': 'email'},\n",
       "   {'type': 'eventCancellation', 'method': 'email'},\n",
       "   {'type': 'eventResponse', 'method': 'email'}]},\n",
       " 'primary': True,\n",
       " 'conferenceProperties': {'allowedConferenceSolutionTypes': ['hangoutsMeet']}}"
      ]
     },
     "execution_count": 27,
     "metadata": {},
     "output_type": "execute_result"
    }
   ],
   "source": [
    "result['items'][0]"
   ]
  },
  {
   "cell_type": "markdown",
   "metadata": {},
   "source": [
    "## Get My Calendar Events"
   ]
  },
  {
   "cell_type": "code",
   "execution_count": 28,
   "metadata": {},
   "outputs": [],
   "source": [
    "calendar_id = result['items'][0]['id']"
   ]
  },
  {
   "cell_type": "code",
   "execution_count": 29,
   "metadata": {},
   "outputs": [
    {
     "data": {
      "text/plain": [
       "'code.crunch.sih@gmail.com'"
      ]
     },
     "execution_count": 29,
     "metadata": {},
     "output_type": "execute_result"
    }
   ],
   "source": [
    "calendar_id"
   ]
  },
  {
   "cell_type": "code",
   "execution_count": 30,
   "metadata": {},
   "outputs": [],
   "source": [
    "result = service.events().list(calendarId=calendar_id, timeZone=\"Asia/Kolkata\").execute()"
   ]
  },
  {
   "cell_type": "code",
   "execution_count": 31,
   "metadata": {},
   "outputs": [
    {
     "data": {
      "text/plain": [
       "[{'kind': 'calendar#event',\n",
       "  'etag': '\"3191418915082000\"',\n",
       "  'id': '0ha6pqb6vb13n5f16jrg8q5rc4',\n",
       "  'status': 'confirmed',\n",
       "  'htmlLink': 'https://www.google.com/calendar/event?eid=MGhhNnBxYjZ2YjEzbjVmMTZqcmc4cTVyYzQgY29kZS5jcnVuY2guc2loQG0&ctz=Asia/Kolkata',\n",
       "  'created': '2020-07-25T20:37:37.000Z',\n",
       "  'updated': '2020-07-25T20:37:37.602Z',\n",
       "  'summary': 'Meeting',\n",
       "  'creator': {'email': 'code.crunch.sih@gmail.com', 'self': True},\n",
       "  'organizer': {'email': 'code.crunch.sih@gmail.com', 'self': True},\n",
       "  'start': {'dateTime': '2020-05-15T21:00:00+05:30',\n",
       "   'timeZone': 'Asia/Kolkata'},\n",
       "  'end': {'dateTime': '2020-05-15T22:00:00+05:30', 'timeZone': 'Asia/Kolkata'},\n",
       "  'iCalUID': '0ha6pqb6vb13n5f16jrg8q5rc4@google.com',\n",
       "  'sequence': 0,\n",
       "  'reminders': {'useDefault': False,\n",
       "   'overrides': [{'method': 'popup', 'minutes': 10},\n",
       "    {'method': 'email', 'minutes': 1440}]}},\n",
       " {'kind': 'calendar#event',\n",
       "  'etag': '\"3191437747244000\"',\n",
       "  'id': '5lo19nuenldm7uomtbmg6mneln',\n",
       "  'status': 'confirmed',\n",
       "  'htmlLink': 'https://www.google.com/calendar/event?eid=NWxvMTludWVubGRtN3VvbXRibWc2bW5lbG4gY29kZS5jcnVuY2guc2loQG0&ctz=Asia/Kolkata',\n",
       "  'created': '2020-07-25T23:14:33.000Z',\n",
       "  'updated': '2020-07-25T23:14:33.622Z',\n",
       "  'summary': 'something something',\n",
       "  'creator': {'email': 'code.crunch.sih@gmail.com', 'self': True},\n",
       "  'organizer': {'email': 'code.crunch.sih@gmail.com', 'self': True},\n",
       "  'start': {'dateTime': '2020-08-04T06:00:00+05:30'},\n",
       "  'end': {'dateTime': '2020-08-04T08:00:00+05:30'},\n",
       "  'iCalUID': '5lo19nuenldm7uomtbmg6mneln@google.com',\n",
       "  'sequence': 0,\n",
       "  'hangoutLink': 'https://meet.google.com/fny-okya-xpb',\n",
       "  'conferenceData': {'entryPoints': [{'entryPointType': 'video',\n",
       "     'uri': 'https://meet.google.com/fny-okya-xpb',\n",
       "     'label': 'meet.google.com/fny-okya-xpb'}],\n",
       "   'conferenceSolution': {'key': {'type': 'hangoutsMeet'},\n",
       "    'name': 'Google Meet',\n",
       "    'iconUri': 'https://lh5.googleusercontent.com/proxy/bWvYBOb7O03a7HK5iKNEAPoUNPEXH1CHZjuOkiqxHx8OtyVn9sZ6Ktl8hfqBNQUUbCDg6T2unnsHx7RSkCyhrKgHcdoosAW8POQJm_ZEvZU9ZfAE7mZIBGr_tDlF8Z_rSzXcjTffVXg3M46v'},\n",
       "   'conferenceId': 'fny-okya-xpb',\n",
       "   'signature': 'ADR/mfOZL5UOrh3QnPPSQ01zxhQW'},\n",
       "  'reminders': {'useDefault': True}},\n",
       " {'kind': 'calendar#event',\n",
       "  'etag': '\"3191484475526000\"',\n",
       "  'id': 'rj4c7qgc5uehfik2nfd4sgdv0o',\n",
       "  'status': 'confirmed',\n",
       "  'htmlLink': 'https://www.google.com/calendar/event?eid=cmo0YzdxZ2M1dWVoZmlrMm5mZDRzZ2R2MG8gY29kZS5jcnVuY2guc2loQG0&ctz=Asia/Kolkata',\n",
       "  'created': '2020-07-26T05:43:57.000Z',\n",
       "  'updated': '2020-07-26T05:43:57.797Z',\n",
       "  'summary': 'Interview',\n",
       "  'description': 'company details',\n",
       "  'location': 'Google Meet',\n",
       "  'creator': {'email': 'code.crunch.sih@gmail.com', 'self': True},\n",
       "  'organizer': {'email': 'code.crunch.sih@gmail.com', 'self': True},\n",
       "  'start': {'dateTime': '2020-07-26T11:20:00+05:30',\n",
       "   'timeZone': 'Asia/Kolkata'},\n",
       "  'end': {'dateTime': '2020-07-26T15:20:00+05:30', 'timeZone': 'Asia/Kolkata'},\n",
       "  'iCalUID': 'rj4c7qgc5uehfik2nfd4sgdv0o@google.com',\n",
       "  'sequence': 0,\n",
       "  'attendees': [{'email': 'maheshmahajan.20998@gmail.com',\n",
       "    'responseStatus': 'needsAction'},\n",
       "   {'email': 'luckysharma698@gmail.com', 'responseStatus': 'needsAction'}],\n",
       "  'hangoutLink': 'https://meet.google.com/xqn-rwbf-euc',\n",
       "  'conferenceData': {'createRequest': {'requestId': 'its done baby',\n",
       "    'conferenceSolutionKey': {'type': 'hangoutsMeet'},\n",
       "    'status': {'statusCode': 'success'}},\n",
       "   'entryPoints': [{'entryPointType': 'video',\n",
       "     'uri': 'https://meet.google.com/xqn-rwbf-euc',\n",
       "     'label': 'meet.google.com/xqn-rwbf-euc'}],\n",
       "   'conferenceSolution': {'key': {'type': 'hangoutsMeet'},\n",
       "    'name': 'Google Meet',\n",
       "    'iconUri': 'https://lh5.googleusercontent.com/proxy/bWvYBOb7O03a7HK5iKNEAPoUNPEXH1CHZjuOkiqxHx8OtyVn9sZ6Ktl8hfqBNQUUbCDg6T2unnsHx7RSkCyhrKgHcdoosAW8POQJm_ZEvZU9ZfAE7mZIBGr_tDlF8Z_rSzXcjTffVXg3M46v'},\n",
       "   'conferenceId': 'xqn-rwbf-euc',\n",
       "   'signature': 'ADR/mfPm2jY6l9kITwvg4OVJzUA5'},\n",
       "  'reminders': {'useDefault': False,\n",
       "   'overrides': [{'method': 'email', 'minutes': 5}]}}]"
      ]
     },
     "execution_count": 31,
     "metadata": {},
     "output_type": "execute_result"
    }
   ],
   "source": [
    "result['items']"
   ]
  },
  {
   "cell_type": "markdown",
   "metadata": {},
   "source": [
    "## Create a New Calandar Event"
   ]
  },
  {
   "cell_type": "code",
   "execution_count": 12,
   "metadata": {},
   "outputs": [],
   "source": [
    "from datetime import datetime, timedelta"
   ]
  },
  {
   "cell_type": "code",
   "execution_count": null,
   "metadata": {},
   "outputs": [],
   "source": []
  },
  {
   "cell_type": "code",
   "execution_count": 13,
   "metadata": {},
   "outputs": [],
   "source": [
    "start_time = datetime(2020, 7, 26, 11, 20, 0)\n",
    "end_time = start_time + timedelta(hours=4)\n",
    "timezone = 'Asia/Kolkata'"
   ]
  },
  {
   "cell_type": "code",
   "execution_count": 14,
   "metadata": {},
   "outputs": [],
   "source": [
    "event = {\n",
    "  'summary': 'Interview',\n",
    "  'location': 'Google Meet',\n",
    "  'description': 'company details',\n",
    "  'start': {\n",
    "    'dateTime': start_time.strftime(\"%Y-%m-%dT%H:%M:%S\"),\n",
    "    'timeZone': timezone,\n",
    "  },\n",
    "  'end': {\n",
    "    'dateTime': end_time.strftime(\"%Y-%m-%dT%H:%M:%S\"),\n",
    "    'timeZone': timezone,\n",
    "  },\n",
    "    \n",
    "  'reminders': {\n",
    "    'useDefault': False,\n",
    "    'overrides': [\n",
    "      {'method': 'email', 'minutes': 24 * 60},\n",
    "      {'method': 'popup', 'minutes': 10},\n",
    "    ],\n",
    "  },\n",
    "    'attendees':[\n",
    "    {'email': 'maheshmahajan.20998@gmail.com'},\n",
    "    {'email': 'luckysharma698@gmail.com'},\n",
    "  ]\n",
    "    ,\n",
    "  'conferenceData': {\n",
    "      'createRequest': {\n",
    "          'requestId':'its done baby',\n",
    "          'conferenceSolutionKey': {\n",
    "                  'type': 'hangoutsMeet'\n",
    "              }\n",
    "          \n",
    "      }\n",
    "  },\n",
    "    'reminders': {\n",
    "        'useDefault': False,\n",
    "        'overrides': [\n",
    "          {'method': 'email', 'minutes': 5},\n",
    "        ],\n",
    "      },\n",
    "}"
   ]
  },
  {
   "cell_type": "code",
   "execution_count": 18,
   "metadata": {},
   "outputs": [],
   "source": [
    "a=service.events().insert(calendarId=calendar_id, body=event, conferenceDataVersion=1).execute()"
   ]
  },
  {
   "cell_type": "code",
   "execution_count": 23,
   "metadata": {},
   "outputs": [
    {
     "data": {
      "text/plain": [
       "'https://meet.google.com/xqn-rwbf-euc'"
      ]
     },
     "execution_count": 23,
     "metadata": {},
     "output_type": "execute_result"
    }
   ],
   "source": [
    "a['hangoutLink']"
   ]
  },
  {
   "cell_type": "code",
   "execution_count": 24,
   "metadata": {},
   "outputs": [
    {
     "data": {
      "text/plain": [
       "{'kind': 'calendar#event',\n",
       " 'etag': '\"3191484475526000\"',\n",
       " 'id': 'rj4c7qgc5uehfik2nfd4sgdv0o',\n",
       " 'status': 'confirmed',\n",
       " 'htmlLink': 'https://www.google.com/calendar/event?eid=cmo0YzdxZ2M1dWVoZmlrMm5mZDRzZ2R2MG8gY29kZS5jcnVuY2guc2loQG0',\n",
       " 'created': '2020-07-26T05:43:57.000Z',\n",
       " 'updated': '2020-07-26T05:43:57.797Z',\n",
       " 'summary': 'Interview',\n",
       " 'description': 'company details',\n",
       " 'location': 'Google Meet',\n",
       " 'creator': {'email': 'code.crunch.sih@gmail.com', 'self': True},\n",
       " 'organizer': {'email': 'code.crunch.sih@gmail.com', 'self': True},\n",
       " 'start': {'dateTime': '2020-07-26T11:20:00+05:30',\n",
       "  'timeZone': 'Asia/Kolkata'},\n",
       " 'end': {'dateTime': '2020-07-26T15:20:00+05:30', 'timeZone': 'Asia/Kolkata'},\n",
       " 'iCalUID': 'rj4c7qgc5uehfik2nfd4sgdv0o@google.com',\n",
       " 'sequence': 0,\n",
       " 'attendees': [{'email': 'maheshmahajan.20998@gmail.com',\n",
       "   'responseStatus': 'needsAction'},\n",
       "  {'email': 'luckysharma698@gmail.com', 'responseStatus': 'needsAction'}],\n",
       " 'hangoutLink': 'https://meet.google.com/xqn-rwbf-euc',\n",
       " 'conferenceData': {'createRequest': {'requestId': 'its done baby',\n",
       "   'conferenceSolutionKey': {'type': 'hangoutsMeet'},\n",
       "   'status': {'statusCode': 'success'}},\n",
       "  'entryPoints': [{'entryPointType': 'video',\n",
       "    'uri': 'https://meet.google.com/xqn-rwbf-euc',\n",
       "    'label': 'meet.google.com/xqn-rwbf-euc'}],\n",
       "  'conferenceSolution': {'key': {'type': 'hangoutsMeet'},\n",
       "   'name': 'Google Meet',\n",
       "   'iconUri': 'https://lh5.googleusercontent.com/proxy/bWvYBOb7O03a7HK5iKNEAPoUNPEXH1CHZjuOkiqxHx8OtyVn9sZ6Ktl8hfqBNQUUbCDg6T2unnsHx7RSkCyhrKgHcdoosAW8POQJm_ZEvZU9ZfAE7mZIBGr_tDlF8Z_rSzXcjTffVXg3M46v'},\n",
       "  'conferenceId': 'xqn-rwbf-euc',\n",
       "  'signature': 'ADR/mfPm2jY6l9kITwvg4OVJzUA5'},\n",
       " 'reminders': {'useDefault': False,\n",
       "  'overrides': [{'method': 'email', 'minutes': 5}]}}"
      ]
     },
     "execution_count": 24,
     "metadata": {},
     "output_type": "execute_result"
    }
   ],
   "source": [
    "a"
   ]
  },
  {
   "cell_type": "markdown",
   "metadata": {},
   "source": [
    "#"
   ]
  },
  {
   "cell_type": "markdown",
   "metadata": {},
   "source": [
    "#"
   ]
  },
  {
   "cell_type": "markdown",
   "metadata": {},
   "source": [
    "# Below things are not usefull as such"
   ]
  },
  {
   "cell_type": "markdown",
   "metadata": {},
   "source": [
    "#\n"
   ]
  },
  {
   "cell_type": "markdown",
   "metadata": {},
   "source": [
    "#"
   ]
  },
  {
   "cell_type": "markdown",
   "metadata": {},
   "source": [
    "## Utility function\n",
    "\n",
    "```\n",
    "pip install datefinder\n",
    "```"
   ]
  },
  {
   "cell_type": "code",
   "execution_count": 32,
   "metadata": {},
   "outputs": [
    {
     "name": "stdout",
     "output_type": "stream",
     "text": [
      "Collecting datefinder\n",
      "  Downloading https://files.pythonhosted.org/packages/0c/4f/29524c9ca35d2ba1a8a3c6c895b90fc92525cf0fe357f747133890953ebe/datefinder-0.7.1-py2.py3-none-any.whl\n",
      "Requirement already satisfied: pytz in c:\\users\\acer\\anaconda3\\lib\\site-packages (from datefinder) (2018.9)\n",
      "Requirement already satisfied: python-dateutil>=2.4.2 in c:\\users\\acer\\anaconda3\\lib\\site-packages (from datefinder) (2.8.0)\n",
      "Collecting regex>=2017.02.08 (from datefinder)\n",
      "  Downloading https://files.pythonhosted.org/packages/9c/d1/d2ecb51a8cb38c8278e77a2731c1366881e0dea9671f135d2625f15a73a4/regex-2020.7.14-cp37-cp37m-win_amd64.whl (268kB)\n",
      "Requirement already satisfied: six>=1.5 in c:\\users\\acer\\anaconda3\\lib\\site-packages (from python-dateutil>=2.4.2->datefinder) (1.12.0)\n",
      "Installing collected packages: regex, datefinder\n",
      "Successfully installed datefinder-0.7.1 regex-2020.7.14\n"
     ]
    }
   ],
   "source": [
    "!pip install datefinder"
   ]
  },
  {
   "cell_type": "code",
   "execution_count": 33,
   "metadata": {},
   "outputs": [],
   "source": [
    "import datefinder"
   ]
  },
  {
   "cell_type": "code",
   "execution_count": 34,
   "metadata": {},
   "outputs": [],
   "source": [
    "matches = datefinder.find_dates(\"5 may 9 PM\")"
   ]
  },
  {
   "cell_type": "code",
   "execution_count": 35,
   "metadata": {},
   "outputs": [
    {
     "data": {
      "text/plain": [
       "[datetime.datetime(2020, 5, 5, 21, 0)]"
      ]
     },
     "execution_count": 35,
     "metadata": {},
     "output_type": "execute_result"
    }
   ],
   "source": [
    "list(matches)"
   ]
  },
  {
   "cell_type": "code",
   "execution_count": 36,
   "metadata": {},
   "outputs": [],
   "source": [
    "def create_event(start_time_str, summary, duration=1, description=None, location=None):\n",
    "    matches = list(datefinder.find_dates(start_time_str))\n",
    "    if len(matches):\n",
    "        start_time = matches[0]\n",
    "        end_time = start_time + timedelta(hours=duration)\n",
    "    \n",
    "    event = {\n",
    "        'summary': summary,\n",
    "        'location': location,\n",
    "        'description': description,\n",
    "        'start': {\n",
    "            'dateTime': start_time.strftime(\"%Y-%m-%dT%H:%M:%S\"),\n",
    "            'timeZone': 'Asia/Kolkata',\n",
    "        },\n",
    "        'end': {\n",
    "            'dateTime': end_time.strftime(\"%Y-%m-%dT%H:%M:%S\"),\n",
    "            'timeZone': 'Asia/Kolkata',\n",
    "        },\n",
    "        'reminders': {\n",
    "            'useDefault': False,\n",
    "            'overrides': [\n",
    "                {'method': 'email', 'minutes': 24 * 60},\n",
    "                {'method': 'popup', 'minutes': 10},\n",
    "            ],\n",
    "        },\n",
    "    }\n",
    "    return service.events().insert(calendarId='primary', body=event).execute()"
   ]
  },
  {
   "cell_type": "code",
   "execution_count": 37,
   "metadata": {},
   "outputs": [
    {
     "data": {
      "text/plain": [
       "{'kind': 'calendar#event',\n",
       " 'etag': '\"3191418915082000\"',\n",
       " 'id': '0ha6pqb6vb13n5f16jrg8q5rc4',\n",
       " 'status': 'confirmed',\n",
       " 'htmlLink': 'https://www.google.com/calendar/event?eid=MGhhNnBxYjZ2YjEzbjVmMTZqcmc4cTVyYzQgY29kZS5jcnVuY2guc2loQG0',\n",
       " 'created': '2020-07-25T20:37:37.000Z',\n",
       " 'updated': '2020-07-25T20:37:37.602Z',\n",
       " 'summary': 'Meeting',\n",
       " 'creator': {'email': 'code.crunch.sih@gmail.com', 'self': True},\n",
       " 'organizer': {'email': 'code.crunch.sih@gmail.com', 'self': True},\n",
       " 'start': {'dateTime': '2020-05-15T21:00:00+05:30',\n",
       "  'timeZone': 'Asia/Kolkata'},\n",
       " 'end': {'dateTime': '2020-05-15T22:00:00+05:30', 'timeZone': 'Asia/Kolkata'},\n",
       " 'iCalUID': '0ha6pqb6vb13n5f16jrg8q5rc4@google.com',\n",
       " 'sequence': 0,\n",
       " 'reminders': {'useDefault': False,\n",
       "  'overrides': [{'method': 'popup', 'minutes': 10},\n",
       "   {'method': 'email', 'minutes': 1440}]}}"
      ]
     },
     "execution_count": 37,
     "metadata": {},
     "output_type": "execute_result"
    }
   ],
   "source": [
    "create_event(\"15 may 9 PM\", \"Meeting\")"
   ]
  },
  {
   "cell_type": "code",
   "execution_count": null,
   "metadata": {},
   "outputs": [],
   "source": []
  },
  {
   "cell_type": "code",
   "execution_count": null,
   "metadata": {},
   "outputs": [],
   "source": []
  },
  {
   "cell_type": "code",
   "execution_count": null,
   "metadata": {},
   "outputs": [],
   "source": []
  }
 ],
 "metadata": {
  "kernelspec": {
   "display_name": "Python 3",
   "language": "python",
   "name": "python3"
  },
  "language_info": {
   "codemirror_mode": {
    "name": "ipython",
    "version": 3
   },
   "file_extension": ".py",
   "mimetype": "text/x-python",
   "name": "python",
   "nbconvert_exporter": "python",
   "pygments_lexer": "ipython3",
   "version": "3.7.3"
  }
 },
 "nbformat": 4,
 "nbformat_minor": 2
}
