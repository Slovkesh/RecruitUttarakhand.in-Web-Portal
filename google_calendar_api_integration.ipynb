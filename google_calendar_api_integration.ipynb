{
 "cells": [
  {
   "cell_type": "markdown",
   "metadata": {},
   "source": [
    "# Integrating Google Calendar API in Python Projects\n",
    "\n",
    "![](http://chittagongit.com/download/229209)\n",
    "\n",
    "- [Google Calendar](https://calendar.google.com)\n",
    "\n",
    "- [Google Calendar API](https://developers.google.com/calendar/)\n",
    "\n",
    "- [Google Developers Console](https://console.developers.google.com/)\n",
    "\n",
    "- [Google Calendar API Scopes](https://developers.google.com/calendar/auth)\n",
    "\n",
    "- [Google Calendar API Reference](https://developers.google.com/calendar/v3/reference/)"
   ]
  },
  {
   "cell_type": "markdown",
   "metadata": {},
   "source": [
    "## Installation\n",
    "\n",
    "```\n",
    "pip install google-api-python-client\n",
    "```"
   ]
  },
  {
   "cell_type": "code",
   "execution_count": 5,
   "metadata": {},
   "outputs": [
    {
     "name": "stdout",
     "output_type": "stream",
     "text": [
      "Collecting google-api-python-client\n",
      "  Using cached https://files.pythonhosted.org/packages/27/90/2f62cfb242ed19e6e76e96434543003990ebefed475c208d6f342d824931/google_api_python_client-1.10.0-py2.py3-none-any.whl\n",
      "Requirement already satisfied: six<2dev,>=1.6.1 in c:\\users\\mahajan\\anaconda3\\lib\\site-packages (from google-api-python-client) (1.12.0)\n",
      "Collecting httplib2<1dev,>=0.9.2 (from google-api-python-client)\n",
      "  Using cached https://files.pythonhosted.org/packages/b3/ad/d9d9331850ea5bd4f5cb8c650c0bfa119a4abd6b0ad7c45b6506bc979fc0/httplib2-0.18.1-py3-none-any.whl\n",
      "Collecting uritemplate<4dev,>=3.0.0 (from google-api-python-client)\n",
      "  Using cached https://files.pythonhosted.org/packages/bf/0c/60d82c077998feb631608dca3cc1fe19ac074e772bf0c24cf409b977b815/uritemplate-3.0.1-py2.py3-none-any.whl\n",
      "Collecting google-auth-httplib2>=0.0.3 (from google-api-python-client)\n",
      "  Using cached https://files.pythonhosted.org/packages/bd/4e/992849016f8b0c27fb604aafd0a7a724db16128906197bd1245c6f18e6a1/google_auth_httplib2-0.0.4-py2.py3-none-any.whl\n",
      "Collecting google-auth>=1.16.0 (from google-api-python-client)\n",
      "  Downloading https://files.pythonhosted.org/packages/cb/02/00e06ffa98fd0f11f36f808511012fa1fce41e4f79fa35dc7c515364ed01/google_auth-1.20.0-py2.py3-none-any.whl (91kB)\n",
      "Collecting google-api-core<2dev,>=1.18.0 (from google-api-python-client)\n",
      "  Using cached https://files.pythonhosted.org/packages/bf/d5/a43e91cc1a1822b248033a7aca72637abe890e81fce4913497f7d0c1f91f/google_api_core-1.22.0-py2.py3-none-any.whl\n",
      "Requirement already satisfied: setuptools>=40.3.0 in c:\\users\\mahajan\\anaconda3\\lib\\site-packages (from google-auth>=1.16.0->google-api-python-client) (41.1.0)\n",
      "Collecting cachetools<5.0,>=2.0.0 (from google-auth>=1.16.0->google-api-python-client)\n",
      "  Using cached https://files.pythonhosted.org/packages/cd/5c/f3aa86b6d5482f3051b433c7616668a9b96fbe49a622210e2c9781938a5c/cachetools-4.1.1-py3-none-any.whl\n",
      "Collecting rsa<5,>=3.1.4; python_version >= \"3.5\" (from google-auth>=1.16.0->google-api-python-client)\n",
      "  Using cached https://files.pythonhosted.org/packages/1c/df/c3587a667d6b308fadc90b99e8bc8774788d033efcc70f4ecaae7fad144b/rsa-4.6-py3-none-any.whl\n",
      "Collecting pyasn1-modules>=0.2.1 (from google-auth>=1.16.0->google-api-python-client)\n",
      "  Using cached https://files.pythonhosted.org/packages/95/de/214830a981892a3e286c3794f41ae67a4495df1108c3da8a9f62159b9a9d/pyasn1_modules-0.2.8-py2.py3-none-any.whl\n",
      "Requirement already satisfied: requests<3.0.0dev,>=2.18.0 in c:\\users\\mahajan\\anaconda3\\lib\\site-packages (from google-api-core<2dev,>=1.18.0->google-api-python-client) (2.22.0)\n",
      "Requirement already satisfied: pytz in c:\\users\\mahajan\\anaconda3\\lib\\site-packages (from google-api-core<2dev,>=1.18.0->google-api-python-client) (2019.1)\n",
      "Collecting protobuf>=3.12.0 (from google-api-core<2dev,>=1.18.0->google-api-python-client)\n",
      "  Downloading https://files.pythonhosted.org/packages/d2/e8/2510f78a3759e8e8ac5f433fa10a0f582ee13932e3a5e07b9a5067b00dfd/protobuf-3.12.4-cp37-cp37m-win_amd64.whl (1.0MB)\n",
      "Collecting googleapis-common-protos<2.0dev,>=1.6.0 (from google-api-core<2dev,>=1.18.0->google-api-python-client)\n",
      "  Using cached https://files.pythonhosted.org/packages/03/74/3956721ea1eb4bcf7502a311fdaa60b85bd751de4e57d1943afe9b334141/googleapis_common_protos-1.52.0-py2.py3-none-any.whl\n",
      "Collecting pyasn1>=0.1.3 (from rsa<5,>=3.1.4; python_version >= \"3.5\"->google-auth>=1.16.0->google-api-python-client)\n",
      "  Using cached https://files.pythonhosted.org/packages/62/1e/a94a8d635fa3ce4cfc7f506003548d0a2447ae76fd5ca53932970fe3053f/pyasn1-0.4.8-py2.py3-none-any.whl\n",
      "Requirement already satisfied: urllib3!=1.25.0,!=1.25.1,<1.26,>=1.21.1 in c:\\users\\mahajan\\anaconda3\\lib\\site-packages (from requests<3.0.0dev,>=2.18.0->google-api-core<2dev,>=1.18.0->google-api-python-client) (1.24.2)\n",
      "Requirement already satisfied: chardet<3.1.0,>=3.0.2 in c:\\users\\mahajan\\anaconda3\\lib\\site-packages (from requests<3.0.0dev,>=2.18.0->google-api-core<2dev,>=1.18.0->google-api-python-client) (3.0.4)\n",
      "Requirement already satisfied: certifi>=2017.4.17 in c:\\users\\mahajan\\anaconda3\\lib\\site-packages (from requests<3.0.0dev,>=2.18.0->google-api-core<2dev,>=1.18.0->google-api-python-client) (2019.6.16)\n",
      "Requirement already satisfied: idna<2.9,>=2.5 in c:\\users\\mahajan\\anaconda3\\lib\\site-packages (from requests<3.0.0dev,>=2.18.0->google-api-core<2dev,>=1.18.0->google-api-python-client) (2.8)\n",
      "Installing collected packages: httplib2, uritemplate, cachetools, pyasn1, rsa, pyasn1-modules, google-auth, google-auth-httplib2, protobuf, googleapis-common-protos, google-api-core, google-api-python-client\n",
      "  Found existing installation: protobuf 3.9.1\n",
      "    Uninstalling protobuf-3.9.1:\n",
      "      Successfully uninstalled protobuf-3.9.1\n",
      "Successfully installed cachetools-4.1.1 google-api-core-1.22.0 google-api-python-client-1.10.0 google-auth-1.20.0 google-auth-httplib2-0.0.4 googleapis-common-protos-1.52.0 httplib2-0.18.1 protobuf-3.12.4 pyasn1-0.4.8 pyasn1-modules-0.2.8 rsa-4.6 uritemplate-3.0.1\n"
     ]
    },
    {
     "name": "stderr",
     "output_type": "stream",
     "text": [
      "ERROR: Error checking for conflicts.\n",
      "Traceback (most recent call last):\n",
      "  File \"c:\\users\\mahajan\\anaconda3\\lib\\site-packages\\pip\\_vendor\\pkg_resources\\__init__.py\", line 3012, in _dep_map\n",
      "    return self.__dep_map\n",
      "  File \"c:\\users\\mahajan\\anaconda3\\lib\\site-packages\\pip\\_vendor\\pkg_resources\\__init__.py\", line 2806, in __getattr__\n",
      "    raise AttributeError(attr)\n",
      "AttributeError: _DistInfoDistribution__dep_map\n",
      "\n",
      "During handling of the above exception, another exception occurred:\n",
      "\n",
      "Traceback (most recent call last):\n",
      "  File \"c:\\users\\mahajan\\anaconda3\\lib\\site-packages\\pip\\_vendor\\pkg_resources\\__init__.py\", line 3003, in _parsed_pkg_info\n",
      "    return self._pkg_info\n",
      "  File \"c:\\users\\mahajan\\anaconda3\\lib\\site-packages\\pip\\_vendor\\pkg_resources\\__init__.py\", line 2806, in __getattr__\n",
      "    raise AttributeError(attr)\n",
      "AttributeError: _pkg_info\n",
      "\n",
      "During handling of the above exception, another exception occurred:\n",
      "\n",
      "Traceback (most recent call last):\n",
      "  File \"c:\\users\\mahajan\\anaconda3\\lib\\site-packages\\pip\\_internal\\commands\\install.py\", line 517, in _warn_about_conflicts\n",
      "    package_set, _dep_info = check_install_conflicts(to_install)\n",
      "  File \"c:\\users\\mahajan\\anaconda3\\lib\\site-packages\\pip\\_internal\\operations\\check.py\", line 110, in check_install_conflicts\n",
      "    package_set, _ = create_package_set_from_installed()\n",
      "  File \"c:\\users\\mahajan\\anaconda3\\lib\\site-packages\\pip\\_internal\\operations\\check.py\", line 49, in create_package_set_from_installed\n",
      "    package_set[name] = PackageDetails(dist.version, dist.requires())\n",
      "  File \"c:\\users\\mahajan\\anaconda3\\lib\\site-packages\\pip\\_vendor\\pkg_resources\\__init__.py\", line 2727, in requires\n",
      "    dm = self._dep_map\n",
      "  File \"c:\\users\\mahajan\\anaconda3\\lib\\site-packages\\pip\\_vendor\\pkg_resources\\__init__.py\", line 3014, in _dep_map\n",
      "    self.__dep_map = self._compute_dependencies()\n",
      "  File \"c:\\users\\mahajan\\anaconda3\\lib\\site-packages\\pip\\_vendor\\pkg_resources\\__init__.py\", line 3023, in _compute_dependencies\n",
      "    for req in self._parsed_pkg_info.get_all('Requires-Dist') or []:\n",
      "  File \"c:\\users\\mahajan\\anaconda3\\lib\\site-packages\\pip\\_vendor\\pkg_resources\\__init__.py\", line 3005, in _parsed_pkg_info\n",
      "    metadata = self.get_metadata(self.PKG_INFO)\n",
      "  File \"c:\\users\\mahajan\\anaconda3\\lib\\site-packages\\pip\\_vendor\\pkg_resources\\__init__.py\", line 1419, in get_metadata\n",
      "    value = self._get(self._fn(self.egg_info, name))\n",
      "  File \"c:\\users\\mahajan\\anaconda3\\lib\\site-packages\\pip\\_vendor\\pkg_resources\\__init__.py\", line 1607, in _get\n",
      "    with open(path, 'rb') as stream:\n",
      "FileNotFoundError: [Errno 2] No such file or directory: 'c:\\\\users\\\\mahajan\\\\anaconda3\\\\lib\\\\site-packages\\\\tensorflow_estimator-1.14.0.dist-info\\\\METADATA'\n",
      "WARNING: You are using pip version 19.2.2, however version 20.2 is available.\n",
      "You should consider upgrading via the 'python -m pip install --upgrade pip' command.\n"
     ]
    }
   ],
   "source": [
    "!pip install google-api-python-client"
   ]
  },
  {
   "cell_type": "code",
   "execution_count": 8,
   "metadata": {},
   "outputs": [
    {
     "name": "stdout",
     "output_type": "stream",
     "text": [
      "Collecting google_auth_oauthlib\n",
      "  Using cached https://files.pythonhosted.org/packages/7b/b8/88def36e74bee9fce511c9519571f4e485e890093ab7442284f4ffaef60b/google_auth_oauthlib-0.4.1-py2.py3-none-any.whl\n",
      "Requirement already satisfied: google-auth in c:\\users\\mahajan\\anaconda3\\lib\\site-packages (from google_auth_oauthlib) (1.20.0)\n",
      "Collecting requests-oauthlib>=0.7.0 (from google_auth_oauthlib)\n",
      "  Using cached https://files.pythonhosted.org/packages/a3/12/b92740d845ab62ea4edf04d2f4164d82532b5a0b03836d4d4e71c6f3d379/requests_oauthlib-1.3.0-py2.py3-none-any.whl\n",
      "Requirement already satisfied: cachetools<5.0,>=2.0.0 in c:\\users\\mahajan\\anaconda3\\lib\\site-packages (from google-auth->google_auth_oauthlib) (4.1.1)\n",
      "Requirement already satisfied: setuptools>=40.3.0 in c:\\users\\mahajan\\anaconda3\\lib\\site-packages (from google-auth->google_auth_oauthlib) (41.1.0)\n",
      "Requirement already satisfied: six>=1.9.0 in c:\\users\\mahajan\\anaconda3\\lib\\site-packages (from google-auth->google_auth_oauthlib) (1.12.0)\n",
      "Requirement already satisfied: pyasn1-modules>=0.2.1 in c:\\users\\mahajan\\anaconda3\\lib\\site-packages (from google-auth->google_auth_oauthlib) (0.2.8)\n",
      "Requirement already satisfied: rsa<5,>=3.1.4; python_version >= \"3.5\" in c:\\users\\mahajan\\anaconda3\\lib\\site-packages (from google-auth->google_auth_oauthlib) (4.6)\n",
      "Collecting oauthlib>=3.0.0 (from requests-oauthlib>=0.7.0->google_auth_oauthlib)\n",
      "  Using cached https://files.pythonhosted.org/packages/05/57/ce2e7a8fa7c0afb54a0581b14a65b56e62b5759dbc98e80627142b8a3704/oauthlib-3.1.0-py2.py3-none-any.whl\n",
      "Requirement already satisfied: requests>=2.0.0 in c:\\users\\mahajan\\anaconda3\\lib\\site-packages (from requests-oauthlib>=0.7.0->google_auth_oauthlib) (2.22.0)\n",
      "Requirement already satisfied: pyasn1<0.5.0,>=0.4.6 in c:\\users\\mahajan\\anaconda3\\lib\\site-packages (from pyasn1-modules>=0.2.1->google-auth->google_auth_oauthlib) (0.4.8)\n",
      "Requirement already satisfied: urllib3!=1.25.0,!=1.25.1,<1.26,>=1.21.1 in c:\\users\\mahajan\\anaconda3\\lib\\site-packages (from requests>=2.0.0->requests-oauthlib>=0.7.0->google_auth_oauthlib) (1.24.2)\n",
      "Requirement already satisfied: certifi>=2017.4.17 in c:\\users\\mahajan\\anaconda3\\lib\\site-packages (from requests>=2.0.0->requests-oauthlib>=0.7.0->google_auth_oauthlib) (2019.6.16)\n",
      "Requirement already satisfied: idna<2.9,>=2.5 in c:\\users\\mahajan\\anaconda3\\lib\\site-packages (from requests>=2.0.0->requests-oauthlib>=0.7.0->google_auth_oauthlib) (2.8)\n",
      "Requirement already satisfied: chardet<3.1.0,>=3.0.2 in c:\\users\\mahajan\\anaconda3\\lib\\site-packages (from requests>=2.0.0->requests-oauthlib>=0.7.0->google_auth_oauthlib) (3.0.4)\n",
      "Installing collected packages: oauthlib, requests-oauthlib, google-auth-oauthlib\n",
      "Successfully installed google-auth-oauthlib-0.4.1 oauthlib-3.1.0 requests-oauthlib-1.3.0\n"
     ]
    },
    {
     "name": "stderr",
     "output_type": "stream",
     "text": [
      "ERROR: Error checking for conflicts.\n",
      "Traceback (most recent call last):\n",
      "  File \"c:\\users\\mahajan\\anaconda3\\lib\\site-packages\\pip\\_vendor\\pkg_resources\\__init__.py\", line 3012, in _dep_map\n",
      "    return self.__dep_map\n",
      "  File \"c:\\users\\mahajan\\anaconda3\\lib\\site-packages\\pip\\_vendor\\pkg_resources\\__init__.py\", line 2806, in __getattr__\n",
      "    raise AttributeError(attr)\n",
      "AttributeError: _DistInfoDistribution__dep_map\n",
      "\n",
      "During handling of the above exception, another exception occurred:\n",
      "\n",
      "Traceback (most recent call last):\n",
      "  File \"c:\\users\\mahajan\\anaconda3\\lib\\site-packages\\pip\\_vendor\\pkg_resources\\__init__.py\", line 3003, in _parsed_pkg_info\n",
      "    return self._pkg_info\n",
      "  File \"c:\\users\\mahajan\\anaconda3\\lib\\site-packages\\pip\\_vendor\\pkg_resources\\__init__.py\", line 2806, in __getattr__\n",
      "    raise AttributeError(attr)\n",
      "AttributeError: _pkg_info\n",
      "\n",
      "During handling of the above exception, another exception occurred:\n",
      "\n",
      "Traceback (most recent call last):\n",
      "  File \"c:\\users\\mahajan\\anaconda3\\lib\\site-packages\\pip\\_internal\\commands\\install.py\", line 517, in _warn_about_conflicts\n",
      "    package_set, _dep_info = check_install_conflicts(to_install)\n",
      "  File \"c:\\users\\mahajan\\anaconda3\\lib\\site-packages\\pip\\_internal\\operations\\check.py\", line 110, in check_install_conflicts\n",
      "    package_set, _ = create_package_set_from_installed()\n",
      "  File \"c:\\users\\mahajan\\anaconda3\\lib\\site-packages\\pip\\_internal\\operations\\check.py\", line 49, in create_package_set_from_installed\n",
      "    package_set[name] = PackageDetails(dist.version, dist.requires())\n",
      "  File \"c:\\users\\mahajan\\anaconda3\\lib\\site-packages\\pip\\_vendor\\pkg_resources\\__init__.py\", line 2727, in requires\n",
      "    dm = self._dep_map\n",
      "  File \"c:\\users\\mahajan\\anaconda3\\lib\\site-packages\\pip\\_vendor\\pkg_resources\\__init__.py\", line 3014, in _dep_map\n",
      "    self.__dep_map = self._compute_dependencies()\n",
      "  File \"c:\\users\\mahajan\\anaconda3\\lib\\site-packages\\pip\\_vendor\\pkg_resources\\__init__.py\", line 3023, in _compute_dependencies\n",
      "    for req in self._parsed_pkg_info.get_all('Requires-Dist') or []:\n",
      "  File \"c:\\users\\mahajan\\anaconda3\\lib\\site-packages\\pip\\_vendor\\pkg_resources\\__init__.py\", line 3005, in _parsed_pkg_info\n",
      "    metadata = self.get_metadata(self.PKG_INFO)\n",
      "  File \"c:\\users\\mahajan\\anaconda3\\lib\\site-packages\\pip\\_vendor\\pkg_resources\\__init__.py\", line 1419, in get_metadata\n",
      "    value = self._get(self._fn(self.egg_info, name))\n",
      "  File \"c:\\users\\mahajan\\anaconda3\\lib\\site-packages\\pip\\_vendor\\pkg_resources\\__init__.py\", line 1607, in _get\n",
      "    with open(path, 'rb') as stream:\n",
      "FileNotFoundError: [Errno 2] No such file or directory: 'c:\\\\users\\\\mahajan\\\\anaconda3\\\\lib\\\\site-packages\\\\tensorflow_estimator-1.14.0.dist-info\\\\METADATA'\n",
      "WARNING: You are using pip version 19.2.2, however version 20.2 is available.\n",
      "You should consider upgrading via the 'python -m pip install --upgrade pip' command.\n"
     ]
    }
   ],
   "source": [
    "!pip install google_auth_oauthlib"
   ]
  },
  {
   "cell_type": "markdown",
   "metadata": {},
   "source": [
    "## OAuth 2.0 Setup"
   ]
  },
  {
   "cell_type": "code",
   "execution_count": 9,
   "metadata": {},
   "outputs": [],
   "source": [
    "from apiclient.discovery import build\n",
    "from google_auth_oauthlib.flow import InstalledAppFlow"
   ]
  },
  {
   "cell_type": "code",
   "execution_count": 10,
   "metadata": {},
   "outputs": [],
   "source": [
    "scopes = ['https://www.googleapis.com/auth/calendar']"
   ]
  },
  {
   "cell_type": "code",
   "execution_count": 11,
   "metadata": {},
   "outputs": [],
   "source": [
    "flow = InstalledAppFlow.from_client_secrets_file(\"client.json\", scopes=scopes)"
   ]
  },
  {
   "cell_type": "code",
   "execution_count": 13,
   "metadata": {},
   "outputs": [
    {
     "name": "stdout",
     "output_type": "stream",
     "text": [
      "Please visit this URL to authorize this application: https://accounts.google.com/o/oauth2/auth?response_type=code&client_id=655838305825-r3vvkkvq96vjh2eu0l5348qkmr3f8gqb.apps.googleusercontent.com&redirect_uri=urn%3Aietf%3Awg%3Aoauth%3A2.0%3Aoob&scope=https%3A%2F%2Fwww.googleapis.com%2Fauth%2Fcalendar&state=VZ4iwzsbRG0oiCHIyRPyye2l9Mz3O5&prompt=consent&access_type=offline\n",
      "Enter the authorization code: 4/2gHy2bKahhuyV3FASJaTZrCROGgTHvva4VHdwr_4A1EAu2qR6EKuAkE\n"
     ]
    }
   ],
   "source": [
    "credentials = flow.run_console()"
   ]
  },
  {
   "cell_type": "code",
   "execution_count": 16,
   "metadata": {},
   "outputs": [],
   "source": [
    "pickle.dump(credentials, open(\"token.pkl\", \"wb\"))"
   ]
  },
  {
   "cell_type": "code",
   "execution_count": 15,
   "metadata": {},
   "outputs": [],
   "source": [
    "import pickle"
   ]
  },
  {
   "cell_type": "code",
   "execution_count": 7,
   "metadata": {},
   "outputs": [],
   "source": [
    "credentials = pickle.load(open(\"token.pkl\", \"rb\"))"
   ]
  },
  {
   "cell_type": "code",
   "execution_count": 8,
   "metadata": {},
   "outputs": [],
   "source": [
    "service = build(\"calendar\", \"v3\", credentials=credentials)"
   ]
  },
  {
   "cell_type": "markdown",
   "metadata": {},
   "source": [
    "## Get My Calendars"
   ]
  },
  {
   "cell_type": "code",
   "execution_count": 26,
   "metadata": {},
   "outputs": [],
   "source": [
    "result = service.calendarList().list().execute()"
   ]
  },
  {
   "cell_type": "code",
   "execution_count": 27,
   "metadata": {},
   "outputs": [
    {
     "data": {
      "text/plain": [
       "{'kind': 'calendar#calendarListEntry',\n",
       " 'etag': '\"1595709500046000\"',\n",
       " 'id': 'code.crunch.sih@gmail.com',\n",
       " 'summary': 'code.crunch.sih@gmail.com',\n",
       " 'timeZone': 'Asia/Kolkata',\n",
       " 'colorId': '14',\n",
       " 'backgroundColor': '#9fe1e7',\n",
       " 'foregroundColor': '#000000',\n",
       " 'selected': True,\n",
       " 'accessRole': 'owner',\n",
       " 'defaultReminders': [{'method': 'popup', 'minutes': 30}],\n",
       " 'notificationSettings': {'notifications': [{'type': 'eventCreation',\n",
       "    'method': 'email'},\n",
       "   {'type': 'eventChange', 'method': 'email'},\n",
       "   {'type': 'eventCancellation', 'method': 'email'},\n",
       "   {'type': 'eventResponse', 'method': 'email'}]},\n",
       " 'primary': True,\n",
       " 'conferenceProperties': {'allowedConferenceSolutionTypes': ['hangoutsMeet']}}"
      ]
     },
     "execution_count": 27,
     "metadata": {},
     "output_type": "execute_result"
    }
   ],
   "source": [
    "result['items'][0]"
   ]
  },
  {
   "cell_type": "markdown",
   "metadata": {},
   "source": [
    "## Get My Calendar Events"
   ]
  },
  {
   "cell_type": "code",
   "execution_count": 28,
   "metadata": {},
   "outputs": [],
   "source": [
    "calendar_id = result['items'][0]['id']"
   ]
  },
  {
   "cell_type": "code",
   "execution_count": 29,
   "metadata": {},
   "outputs": [
    {
     "data": {
      "text/plain": [
       "'code.crunch.sih@gmail.com'"
      ]
     },
     "execution_count": 29,
     "metadata": {},
     "output_type": "execute_result"
    }
   ],
   "source": [
    "calendar_id"
   ]
  },
  {
   "cell_type": "code",
   "execution_count": 30,
   "metadata": {},
   "outputs": [],
   "source": [
    "result = service.events().list(calendarId=calendar_id, timeZone=\"Asia/Kolkata\").execute()"
   ]
  },
  {
   "cell_type": "code",
   "execution_count": 31,
   "metadata": {},
   "outputs": [
    {
     "data": {
      "text/plain": [
       "[{'kind': 'calendar#event',\n",
       "  'etag': '\"3191418915082000\"',\n",
       "  'id': '0ha6pqb6vb13n5f16jrg8q5rc4',\n",
       "  'status': 'confirmed',\n",
       "  'htmlLink': 'https://www.google.com/calendar/event?eid=MGhhNnBxYjZ2YjEzbjVmMTZqcmc4cTVyYzQgY29kZS5jcnVuY2guc2loQG0&ctz=Asia/Kolkata',\n",
       "  'created': '2020-07-25T20:37:37.000Z',\n",
       "  'updated': '2020-07-25T20:37:37.602Z',\n",
       "  'summary': 'Meeting',\n",
       "  'creator': {'email': 'code.crunch.sih@gmail.com', 'self': True},\n",
       "  'organizer': {'email': 'code.crunch.sih@gmail.com', 'self': True},\n",
       "  'start': {'dateTime': '2020-05-15T21:00:00+05:30',\n",
       "   'timeZone': 'Asia/Kolkata'},\n",
       "  'end': {'dateTime': '2020-05-15T22:00:00+05:30', 'timeZone': 'Asia/Kolkata'},\n",
       "  'iCalUID': '0ha6pqb6vb13n5f16jrg8q5rc4@google.com',\n",
       "  'sequence': 0,\n",
       "  'reminders': {'useDefault': False,\n",
       "   'overrides': [{'method': 'popup', 'minutes': 10},\n",
       "    {'method': 'email', 'minutes': 1440}]}},\n",
       " {'kind': 'calendar#event',\n",
       "  'etag': '\"3191437747244000\"',\n",
       "  'id': '5lo19nuenldm7uomtbmg6mneln',\n",
       "  'status': 'confirmed',\n",
       "  'htmlLink': 'https://www.google.com/calendar/event?eid=NWxvMTludWVubGRtN3VvbXRibWc2bW5lbG4gY29kZS5jcnVuY2guc2loQG0&ctz=Asia/Kolkata',\n",
       "  'created': '2020-07-25T23:14:33.000Z',\n",
       "  'updated': '2020-07-25T23:14:33.622Z',\n",
       "  'summary': 'something something',\n",
       "  'creator': {'email': 'code.crunch.sih@gmail.com', 'self': True},\n",
       "  'organizer': {'email': 'code.crunch.sih@gmail.com', 'self': True},\n",
       "  'start': {'dateTime': '2020-08-04T06:00:00+05:30'},\n",
       "  'end': {'dateTime': '2020-08-04T08:00:00+05:30'},\n",
       "  'iCalUID': '5lo19nuenldm7uomtbmg6mneln@google.com',\n",
       "  'sequence': 0,\n",
       "  'hangoutLink': 'https://meet.google.com/fny-okya-xpb',\n",
       "  'conferenceData': {'entryPoints': [{'entryPointType': 'video',\n",
       "     'uri': 'https://meet.google.com/fny-okya-xpb',\n",
       "     'label': 'meet.google.com/fny-okya-xpb'}],\n",
       "   'conferenceSolution': {'key': {'type': 'hangoutsMeet'},\n",
       "    'name': 'Google Meet',\n",
       "    'iconUri': 'https://lh5.googleusercontent.com/proxy/bWvYBOb7O03a7HK5iKNEAPoUNPEXH1CHZjuOkiqxHx8OtyVn9sZ6Ktl8hfqBNQUUbCDg6T2unnsHx7RSkCyhrKgHcdoosAW8POQJm_ZEvZU9ZfAE7mZIBGr_tDlF8Z_rSzXcjTffVXg3M46v'},\n",
       "   'conferenceId': 'fny-okya-xpb',\n",
       "   'signature': 'ADR/mfOZL5UOrh3QnPPSQ01zxhQW'},\n",
       "  'reminders': {'useDefault': True}},\n",
       " {'kind': 'calendar#event',\n",
       "  'etag': '\"3191484475526000\"',\n",
       "  'id': 'rj4c7qgc5uehfik2nfd4sgdv0o',\n",
       "  'status': 'confirmed',\n",
       "  'htmlLink': 'https://www.google.com/calendar/event?eid=cmo0YzdxZ2M1dWVoZmlrMm5mZDRzZ2R2MG8gY29kZS5jcnVuY2guc2loQG0&ctz=Asia/Kolkata',\n",
       "  'created': '2020-07-26T05:43:57.000Z',\n",
       "  'updated': '2020-07-26T05:43:57.797Z',\n",
       "  'summary': 'Interview',\n",
       "  'description': 'company details',\n",
       "  'location': 'Google Meet',\n",
       "  'creator': {'email': 'code.crunch.sih@gmail.com', 'self': True},\n",
       "  'organizer': {'email': 'code.crunch.sih@gmail.com', 'self': True},\n",
       "  'start': {'dateTime': '2020-07-26T11:20:00+05:30',\n",
       "   'timeZone': 'Asia/Kolkata'},\n",
       "  'end': {'dateTime': '2020-07-26T15:20:00+05:30', 'timeZone': 'Asia/Kolkata'},\n",
       "  'iCalUID': 'rj4c7qgc5uehfik2nfd4sgdv0o@google.com',\n",
       "  'sequence': 0,\n",
       "  'attendees': [{'email': 'maheshmahajan.20998@gmail.com',\n",
       "    'responseStatus': 'needsAction'},\n",
       "   {'email': 'luckysharma698@gmail.com', 'responseStatus': 'needsAction'}],\n",
       "  'hangoutLink': 'https://meet.google.com/xqn-rwbf-euc',\n",
       "  'conferenceData': {'createRequest': {'requestId': 'its done baby',\n",
       "    'conferenceSolutionKey': {'type': 'hangoutsMeet'},\n",
       "    'status': {'statusCode': 'success'}},\n",
       "   'entryPoints': [{'entryPointType': 'video',\n",
       "     'uri': 'https://meet.google.com/xqn-rwbf-euc',\n",
       "     'label': 'meet.google.com/xqn-rwbf-euc'}],\n",
       "   'conferenceSolution': {'key': {'type': 'hangoutsMeet'},\n",
       "    'name': 'Google Meet',\n",
       "    'iconUri': 'https://lh5.googleusercontent.com/proxy/bWvYBOb7O03a7HK5iKNEAPoUNPEXH1CHZjuOkiqxHx8OtyVn9sZ6Ktl8hfqBNQUUbCDg6T2unnsHx7RSkCyhrKgHcdoosAW8POQJm_ZEvZU9ZfAE7mZIBGr_tDlF8Z_rSzXcjTffVXg3M46v'},\n",
       "   'conferenceId': 'xqn-rwbf-euc',\n",
       "   'signature': 'ADR/mfPm2jY6l9kITwvg4OVJzUA5'},\n",
       "  'reminders': {'useDefault': False,\n",
       "   'overrides': [{'method': 'email', 'minutes': 5}]}}]"
      ]
     },
     "execution_count": 31,
     "metadata": {},
     "output_type": "execute_result"
    }
   ],
   "source": [
    "result['items']"
   ]
  },
  {
   "cell_type": "markdown",
   "metadata": {},
   "source": [
    "## Create a New Calandar Event"
   ]
  },
  {
   "cell_type": "code",
   "execution_count": 12,
   "metadata": {},
   "outputs": [],
   "source": [
    "from datetime import datetime, timedelta"
   ]
  },
  {
   "cell_type": "code",
   "execution_count": null,
   "metadata": {},
   "outputs": [],
   "source": []
  },
  {
   "cell_type": "code",
   "execution_count": 13,
   "metadata": {},
   "outputs": [],
   "source": [
    "start_time = datetime(2020, 7, 26, 11, 20, 0)\n",
    "end_time = start_time + timedelta(hours=4)\n",
    "timezone = 'Asia/Kolkata'"
   ]
  },
  {
   "cell_type": "code",
   "execution_count": 14,
   "metadata": {},
   "outputs": [],
   "source": [
    "event = {\n",
    "  'summary': 'Interview',\n",
    "  'location': 'Google Meet',\n",
    "  'description': 'company details',\n",
    "  'start': {\n",
    "    'dateTime': start_time.strftime(\"%Y-%m-%dT%H:%M:%S\"),\n",
    "    'timeZone': timezone,\n",
    "  },\n",
    "  'end': {\n",
    "    'dateTime': end_time.strftime(\"%Y-%m-%dT%H:%M:%S\"),\n",
    "    'timeZone': timezone,\n",
    "  },\n",
    "    \n",
    "  'reminders': {\n",
    "    'useDefault': False,\n",
    "    'overrides': [\n",
    "      {'method': 'email', 'minutes': 24 * 60},\n",
    "      {'method': 'popup', 'minutes': 10},\n",
    "    ],\n",
    "  },\n",
    "    'attendees':[\n",
    "    {'email': 'maheshmahajan.20998@gmail.com'},\n",
    "    {'email': 'luckysharma698@gmail.com'},\n",
    "  ]\n",
    "    ,\n",
    "  'conferenceData': {\n",
    "      'createRequest': {\n",
    "          'requestId':'its done baby',\n",
    "          'conferenceSolutionKey': {\n",
    "                  'type': 'hangoutsMeet'\n",
    "              }\n",
    "          \n",
    "      }\n",
    "  },\n",
    "    'reminders': {\n",
    "        'useDefault': False,\n",
    "        'overrides': [\n",
    "          {'method': 'email', 'minutes': 5},\n",
    "        ],\n",
    "      },\n",
    "}"
   ]
  },
  {
   "cell_type": "code",
   "execution_count": 18,
   "metadata": {},
   "outputs": [],
   "source": [
    "a=service.events().insert(calendarId=calendar_id, body=event, conferenceDataVersion=1).execute()"
   ]
  },
  {
   "cell_type": "code",
   "execution_count": 23,
   "metadata": {},
   "outputs": [
    {
     "data": {
      "text/plain": [
       "'https://meet.google.com/xqn-rwbf-euc'"
      ]
     },
     "execution_count": 23,
     "metadata": {},
     "output_type": "execute_result"
    }
   ],
   "source": [
    "a['hangoutLink']"
   ]
  },
  {
   "cell_type": "code",
   "execution_count": 24,
   "metadata": {},
   "outputs": [
    {
     "data": {
      "text/plain": [
       "{'kind': 'calendar#event',\n",
       " 'etag': '\"3191484475526000\"',\n",
       " 'id': 'rj4c7qgc5uehfik2nfd4sgdv0o',\n",
       " 'status': 'confirmed',\n",
       " 'htmlLink': 'https://www.google.com/calendar/event?eid=cmo0YzdxZ2M1dWVoZmlrMm5mZDRzZ2R2MG8gY29kZS5jcnVuY2guc2loQG0',\n",
       " 'created': '2020-07-26T05:43:57.000Z',\n",
       " 'updated': '2020-07-26T05:43:57.797Z',\n",
       " 'summary': 'Interview',\n",
       " 'description': 'company details',\n",
       " 'location': 'Google Meet',\n",
       " 'creator': {'email': 'code.crunch.sih@gmail.com', 'self': True},\n",
       " 'organizer': {'email': 'code.crunch.sih@gmail.com', 'self': True},\n",
       " 'start': {'dateTime': '2020-07-26T11:20:00+05:30',\n",
       "  'timeZone': 'Asia/Kolkata'},\n",
       " 'end': {'dateTime': '2020-07-26T15:20:00+05:30', 'timeZone': 'Asia/Kolkata'},\n",
       " 'iCalUID': 'rj4c7qgc5uehfik2nfd4sgdv0o@google.com',\n",
       " 'sequence': 0,\n",
       " 'attendees': [{'email': 'maheshmahajan.20998@gmail.com',\n",
       "   'responseStatus': 'needsAction'},\n",
       "  {'email': 'luckysharma698@gmail.com', 'responseStatus': 'needsAction'}],\n",
       " 'hangoutLink': 'https://meet.google.com/xqn-rwbf-euc',\n",
       " 'conferenceData': {'createRequest': {'requestId': 'its done baby',\n",
       "   'conferenceSolutionKey': {'type': 'hangoutsMeet'},\n",
       "   'status': {'statusCode': 'success'}},\n",
       "  'entryPoints': [{'entryPointType': 'video',\n",
       "    'uri': 'https://meet.google.com/xqn-rwbf-euc',\n",
       "    'label': 'meet.google.com/xqn-rwbf-euc'}],\n",
       "  'conferenceSolution': {'key': {'type': 'hangoutsMeet'},\n",
       "   'name': 'Google Meet',\n",
       "   'iconUri': 'https://lh5.googleusercontent.com/proxy/bWvYBOb7O03a7HK5iKNEAPoUNPEXH1CHZjuOkiqxHx8OtyVn9sZ6Ktl8hfqBNQUUbCDg6T2unnsHx7RSkCyhrKgHcdoosAW8POQJm_ZEvZU9ZfAE7mZIBGr_tDlF8Z_rSzXcjTffVXg3M46v'},\n",
       "  'conferenceId': 'xqn-rwbf-euc',\n",
       "  'signature': 'ADR/mfPm2jY6l9kITwvg4OVJzUA5'},\n",
       " 'reminders': {'useDefault': False,\n",
       "  'overrides': [{'method': 'email', 'minutes': 5}]}}"
      ]
     },
     "execution_count": 24,
     "metadata": {},
     "output_type": "execute_result"
    }
   ],
   "source": [
    "a"
   ]
  },
  {
   "cell_type": "markdown",
   "metadata": {},
   "source": [
    "#"
   ]
  },
  {
   "cell_type": "markdown",
   "metadata": {},
   "source": [
    "#"
   ]
  },
  {
   "cell_type": "markdown",
   "metadata": {},
   "source": [
    "# Below things are not usefull as such"
   ]
  },
  {
   "cell_type": "markdown",
   "metadata": {},
   "source": [
    "#\n"
   ]
  },
  {
   "cell_type": "markdown",
   "metadata": {},
   "source": [
    "#"
   ]
  },
  {
   "cell_type": "markdown",
   "metadata": {},
   "source": [
    "## Utility function\n",
    "\n",
    "```\n",
    "pip install datefinder\n",
    "```"
   ]
  },
  {
   "cell_type": "code",
   "execution_count": 32,
   "metadata": {},
   "outputs": [
    {
     "name": "stdout",
     "output_type": "stream",
     "text": [
      "Collecting datefinder\n",
      "  Downloading https://files.pythonhosted.org/packages/0c/4f/29524c9ca35d2ba1a8a3c6c895b90fc92525cf0fe357f747133890953ebe/datefinder-0.7.1-py2.py3-none-any.whl\n",
      "Requirement already satisfied: pytz in c:\\users\\acer\\anaconda3\\lib\\site-packages (from datefinder) (2018.9)\n",
      "Requirement already satisfied: python-dateutil>=2.4.2 in c:\\users\\acer\\anaconda3\\lib\\site-packages (from datefinder) (2.8.0)\n",
      "Collecting regex>=2017.02.08 (from datefinder)\n",
      "  Downloading https://files.pythonhosted.org/packages/9c/d1/d2ecb51a8cb38c8278e77a2731c1366881e0dea9671f135d2625f15a73a4/regex-2020.7.14-cp37-cp37m-win_amd64.whl (268kB)\n",
      "Requirement already satisfied: six>=1.5 in c:\\users\\acer\\anaconda3\\lib\\site-packages (from python-dateutil>=2.4.2->datefinder) (1.12.0)\n",
      "Installing collected packages: regex, datefinder\n",
      "Successfully installed datefinder-0.7.1 regex-2020.7.14\n"
     ]
    }
   ],
   "source": [
    "!pip install datefinder"
   ]
  },
  {
   "cell_type": "code",
   "execution_count": 33,
   "metadata": {},
   "outputs": [],
   "source": [
    "import datefinder"
   ]
  },
  {
   "cell_type": "code",
   "execution_count": 34,
   "metadata": {},
   "outputs": [],
   "source": [
    "matches = datefinder.find_dates(\"5 may 9 PM\")"
   ]
  },
  {
   "cell_type": "code",
   "execution_count": 35,
   "metadata": {},
   "outputs": [
    {
     "data": {
      "text/plain": [
       "[datetime.datetime(2020, 5, 5, 21, 0)]"
      ]
     },
     "execution_count": 35,
     "metadata": {},
     "output_type": "execute_result"
    }
   ],
   "source": [
    "list(matches)"
   ]
  },
  {
   "cell_type": "code",
   "execution_count": 36,
   "metadata": {},
   "outputs": [],
   "source": [
    "def create_event(start_time_str, summary, duration=1, description=None, location=None):\n",
    "    matches = list(datefinder.find_dates(start_time_str))\n",
    "    if len(matches):\n",
    "        start_time = matches[0]\n",
    "        end_time = start_time + timedelta(hours=duration)\n",
    "    \n",
    "    event = {\n",
    "        'summary': summary,\n",
    "        'location': location,\n",
    "        'description': description,\n",
    "        'start': {\n",
    "            'dateTime': start_time.strftime(\"%Y-%m-%dT%H:%M:%S\"),\n",
    "            'timeZone': 'Asia/Kolkata',\n",
    "        },\n",
    "        'end': {\n",
    "            'dateTime': end_time.strftime(\"%Y-%m-%dT%H:%M:%S\"),\n",
    "            'timeZone': 'Asia/Kolkata',\n",
    "        },\n",
    "        'reminders': {\n",
    "            'useDefault': False,\n",
    "            'overrides': [\n",
    "                {'method': 'email', 'minutes': 24 * 60},\n",
    "                {'method': 'popup', 'minutes': 10},\n",
    "            ],\n",
    "        },\n",
    "    }\n",
    "    return service.events().insert(calendarId='primary', body=event).execute()"
   ]
  },
  {
   "cell_type": "code",
   "execution_count": 37,
   "metadata": {},
   "outputs": [
    {
     "data": {
      "text/plain": [
       "{'kind': 'calendar#event',\n",
       " 'etag': '\"3191418915082000\"',\n",
       " 'id': '0ha6pqb6vb13n5f16jrg8q5rc4',\n",
       " 'status': 'confirmed',\n",
       " 'htmlLink': 'https://www.google.com/calendar/event?eid=MGhhNnBxYjZ2YjEzbjVmMTZqcmc4cTVyYzQgY29kZS5jcnVuY2guc2loQG0',\n",
       " 'created': '2020-07-25T20:37:37.000Z',\n",
       " 'updated': '2020-07-25T20:37:37.602Z',\n",
       " 'summary': 'Meeting',\n",
       " 'creator': {'email': 'code.crunch.sih@gmail.com', 'self': True},\n",
       " 'organizer': {'email': 'code.crunch.sih@gmail.com', 'self': True},\n",
       " 'start': {'dateTime': '2020-05-15T21:00:00+05:30',\n",
       "  'timeZone': 'Asia/Kolkata'},\n",
       " 'end': {'dateTime': '2020-05-15T22:00:00+05:30', 'timeZone': 'Asia/Kolkata'},\n",
       " 'iCalUID': '0ha6pqb6vb13n5f16jrg8q5rc4@google.com',\n",
       " 'sequence': 0,\n",
       " 'reminders': {'useDefault': False,\n",
       "  'overrides': [{'method': 'popup', 'minutes': 10},\n",
       "   {'method': 'email', 'minutes': 1440}]}}"
      ]
     },
     "execution_count": 37,
     "metadata": {},
     "output_type": "execute_result"
    }
   ],
   "source": [
    "create_event(\"15 may 9 PM\", \"Meeting\")"
   ]
  },
  {
   "cell_type": "code",
   "execution_count": null,
   "metadata": {},
   "outputs": [],
   "source": []
  },
  {
   "cell_type": "code",
   "execution_count": null,
   "metadata": {},
   "outputs": [],
   "source": []
  },
  {
   "cell_type": "code",
   "execution_count": null,
   "metadata": {},
   "outputs": [],
   "source": []
  }
 ],
 "metadata": {
  "kernelspec": {
   "display_name": "Python 3",
   "language": "python",
   "name": "python3"
  },
  "language_info": {
   "codemirror_mode": {
    "name": "ipython",
    "version": 3
   },
   "file_extension": ".py",
   "mimetype": "text/x-python",
   "name": "python",
   "nbconvert_exporter": "python",
   "pygments_lexer": "ipython3",
   "version": "3.7.3"
  }
 },
 "nbformat": 4,
 "nbformat_minor": 2
}
